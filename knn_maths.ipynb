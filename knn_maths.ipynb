{
  "nbformat": 4,
  "nbformat_minor": 0,
  "metadata": {
    "colab": {
      "provenance": []
    },
    "kernelspec": {
      "name": "python3",
      "display_name": "Python 3"
    },
    "language_info": {
      "name": "python"
    }
  },
  "cells": [
    {
      "cell_type": "code",
      "execution_count": null,
      "metadata": {
        "id": "WIvhXWT3xR3J"
      },
      "outputs": [],
      "source": [
        "import numpy as np"
      ]
    },
    {
      "cell_type": "code",
      "source": [
        "# consider two points with 3 dimensions\n",
        "p1 = (1,1,1)\n",
        "p2 = (2,2,2)"
      ],
      "metadata": {
        "id": "GQ7ZhVjHyLQN"
      },
      "execution_count": null,
      "outputs": []
    },
    {
      "cell_type": "code",
      "source": [
        "# calculating euclidean distance\n",
        "\n",
        "dist = (p1[0]-p2[0])**2 + (p1[1] - p2[1])**2 + (p1[2] - p2[2])**2\n",
        "\n",
        "eu_dist = np.sqrt(dist)"
      ],
      "metadata": {
        "id": "RoROy-5cz95C"
      },
      "execution_count": null,
      "outputs": []
    },
    {
      "cell_type": "code",
      "source": [
        "# consider two points with 4 dimensions\n",
        "def get_eu_dist(p1,p2):\n",
        "  p1 = (1,1,1,1)\n",
        "  p2 = (2,2,2,2)\n",
        "\n",
        "  sum =0\n",
        "  for i in range(len(p1)):\n",
        "    sum = sum + (p1[i]-p2[i])**2\n",
        "  eu_d = np.sqrt(sum)\n",
        "  return eu_d"
      ],
      "metadata": {
        "id": "BGWcpMt30ksU"
      },
      "execution_count": null,
      "outputs": []
    },
    {
      "cell_type": "code",
      "source": [
        "# Manhattan distance\n",
        "# consider two points with 4 dimensions\n",
        "def get_mnht_dis(p1,p2):\n",
        "  p1 = (1,1,1,1)\n",
        "  p2 = (2,2,2,2)\n",
        "\n",
        "  sum =0\n",
        "  for i in range(len(p1)):\n",
        "    sum = sum + abs(p1[i]-p2[i])\n",
        "  print(sum)"
      ],
      "metadata": {
        "id": "8lYp51TB1gKW"
      },
      "execution_count": null,
      "outputs": []
    }
  ]
}